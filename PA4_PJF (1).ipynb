{
 "cells": [
  {
   "cell_type": "markdown",
   "id": "329c5dd6",
   "metadata": {},
   "source": [
    "# PA4"
   ]
  },
  {
   "cell_type": "markdown",
   "id": "3ad6ca17",
   "metadata": {},
   "source": [
    "# Peyton Fosnough\n",
    "# Anaconda Python\n",
    "# CS-150-01"
   ]
  },
  {
   "cell_type": "markdown",
   "id": "5361a91e",
   "metadata": {},
   "source": [
    "### a."
   ]
  },
  {
   "cell_type": "markdown",
   "id": "5862fd3f",
   "metadata": {},
   "source": [
    "#### i. append() - adds a single item to the existing list"
   ]
  },
  {
   "cell_type": "code",
   "execution_count": 1,
   "id": "4c668e26",
   "metadata": {},
   "outputs": [],
   "source": [
    "names=['Mark','Zach','Chris']"
   ]
  },
  {
   "cell_type": "code",
   "execution_count": 2,
   "id": "6beded6b",
   "metadata": {},
   "outputs": [
    {
     "name": "stdout",
     "output_type": "stream",
     "text": [
      "['Mark', 'Zach', 'Chris', 'Jack']\n"
     ]
    }
   ],
   "source": [
    "names.append('Jack')\n",
    "print(names)"
   ]
  },
  {
   "cell_type": "markdown",
   "id": "978fe61f",
   "metadata": {},
   "source": [
    "#### ii. extend() - adds the specified list elements to the end of the current list"
   ]
  },
  {
   "cell_type": "code",
   "execution_count": 4,
   "id": "9061a496",
   "metadata": {},
   "outputs": [
    {
     "name": "stdout",
     "output_type": "stream",
     "text": [
      "['Mark', 'Zach', 'Chris', 'Jack', 1982, 2001, 2020, 1982, 2001, 2020]\n"
     ]
    }
   ],
   "source": [
    "years=[1982,2001,2020]\n",
    "names.extend(years)\n",
    "print(names)"
   ]
  },
  {
   "cell_type": "markdown",
   "id": "bba74040",
   "metadata": {},
   "source": [
    "#### iii. insert() - inserts an element to the list at the specified index."
   ]
  },
  {
   "cell_type": "code",
   "execution_count": 8,
   "id": "53a96c90",
   "metadata": {},
   "outputs": [
    {
     "name": "stdout",
     "output_type": "stream",
     "text": [
      "[1, 2, 3, 4, 5]\n"
     ]
    }
   ],
   "source": [
    "numbers=[1,2,3,5]\n",
    "numbers.insert(3,4)\n",
    "print(numbers)"
   ]
  },
  {
   "cell_type": "markdown",
   "id": "efeaea6f",
   "metadata": {},
   "source": [
    "#### iv. remove() - removes the first matching element (which is passed as an argument) from the list"
   ]
  },
  {
   "cell_type": "code",
   "execution_count": 9,
   "id": "d0798cec",
   "metadata": {},
   "outputs": [
    {
     "name": "stdout",
     "output_type": "stream",
     "text": [
      "Updated List:  [2, 3, 5, 7, 11]\n"
     ]
    }
   ],
   "source": [
    "prime_numbers = [2, 3, 5, 7, 9, 11]\n",
    "prime_numbers.remove(9)\n",
    "print('Updated List: ', prime_numbers)"
   ]
  },
  {
   "cell_type": "markdown",
   "id": "907e8c62",
   "metadata": {},
   "source": [
    "#### v. count() - returns the number of elements with the specified value"
   ]
  },
  {
   "cell_type": "code",
   "execution_count": 13,
   "id": "9d70bb67",
   "metadata": {},
   "outputs": [
    {
     "name": "stdout",
     "output_type": "stream",
     "text": [
      "1\n"
     ]
    }
   ],
   "source": [
    "fruits = ['apple', 'banana', 'cherry']\n",
    "x = fruits.count(\"cherry\")\n",
    "print(x)"
   ]
  },
  {
   "cell_type": "markdown",
   "id": "39a3b2a3",
   "metadata": {},
   "source": [
    "#### vi. index() - returns the index of the specified element in the list"
   ]
  },
  {
   "cell_type": "code",
   "execution_count": 15,
   "id": "d7892879",
   "metadata": {},
   "outputs": [
    {
     "name": "stdout",
     "output_type": "stream",
     "text": [
      "0\n"
     ]
    }
   ],
   "source": [
    "animals = ['cat', 'dog', 'mouse', 'elephant']\n",
    "index = animals.index('cat')\n",
    "print(index)"
   ]
  },
  {
   "cell_type": "markdown",
   "id": "702a4522",
   "metadata": {},
   "source": [
    "#### vii. pop() - removes the item at the given index from the list and returns the removed item"
   ]
  },
  {
   "cell_type": "code",
   "execution_count": 16,
   "id": "e640d5cc",
   "metadata": {},
   "outputs": [
    {
     "name": "stdout",
     "output_type": "stream",
     "text": [
      "5\n"
     ]
    }
   ],
   "source": [
    "prime_numbers = [2, 3, 5, 7]\n",
    "removed_element = prime_numbers.pop(2)\n",
    "print(removed_element)"
   ]
  },
  {
   "cell_type": "markdown",
   "id": "0eb77a21",
   "metadata": {},
   "source": [
    "#### viii. sorted() - sorts the elements of a given list in a specific ascending or descending order"
   ]
  },
  {
   "cell_type": "code",
   "execution_count": 18,
   "id": "3eec0f6b",
   "metadata": {},
   "outputs": [
    {
     "data": {
      "text/plain": [
       "[2, 3, 5, 7, 11]"
      ]
     },
     "execution_count": 18,
     "metadata": {},
     "output_type": "execute_result"
    }
   ],
   "source": [
    "numbers = [11, 3, 7, 5, 2]\n",
    "sorted(numbers)"
   ]
  },
  {
   "cell_type": "markdown",
   "id": "0c02681a",
   "metadata": {},
   "source": [
    "#### ix. copy() - returns a shallow copy of the list"
   ]
  },
  {
   "cell_type": "code",
   "execution_count": 19,
   "id": "78a47a7a",
   "metadata": {},
   "outputs": [
    {
     "name": "stdout",
     "output_type": "stream",
     "text": [
      "['cat', 0, 6.7]\n"
     ]
    }
   ],
   "source": [
    "my_list = ['cat', 0, 6.7]\n",
    "new_list = my_list.copy()\n",
    "print(new_list)"
   ]
  },
  {
   "cell_type": "markdown",
   "id": "17c11fd8",
   "metadata": {},
   "source": [
    "#### x. clear() - removes all items from the list"
   ]
  },
  {
   "cell_type": "code",
   "execution_count": 20,
   "id": "cee1d38f",
   "metadata": {},
   "outputs": [
    {
     "name": "stdout",
     "output_type": "stream",
     "text": [
      "[]\n"
     ]
    }
   ],
   "source": [
    "numbers=[2, 3, 5, 7, 9, 11]\n",
    "numbers.clear()\n",
    "print(numbers)"
   ]
  },
  {
   "cell_type": "markdown",
   "id": "99eac0a5",
   "metadata": {},
   "source": [
    "#### xi. any() - returns true if any element of an iterable is true."
   ]
  },
  {
   "cell_type": "code",
   "execution_count": 21,
   "id": "3d3c1db1",
   "metadata": {},
   "outputs": [
    {
     "name": "stdout",
     "output_type": "stream",
     "text": [
      "True\n"
     ]
    }
   ],
   "source": [
    "boolean_list = ['True', 'False', 'True']\n",
    "result = any(boolean_list)\n",
    "print(result)"
   ]
  },
  {
   "cell_type": "markdown",
   "id": "4080268c",
   "metadata": {},
   "source": [
    "#### xii. filter() - extracts elements from an iterable (list, tuple etc.) for which a function returns true"
   ]
  },
  {
   "cell_type": "code",
   "execution_count": 23,
   "id": "120f4da4",
   "metadata": {},
   "outputs": [
    {
     "name": "stdout",
     "output_type": "stream",
     "text": [
      "[2, 4, 6, 8, 10]\n"
     ]
    }
   ],
   "source": [
    "numbers = [1, 2, 3, 4, 5, 6, 7, 8, 9, 10]\n",
    "def check_even(number):\n",
    "    if number % 2 == 0:\n",
    "          return True  \n",
    "    return False\n",
    "even_numbers_iterator = filter(check_even, numbers)\n",
    "even_numbers = list(even_numbers_iterator)\n",
    "print(even_numbers)"
   ]
  },
  {
   "cell_type": "markdown",
   "id": "210016c3",
   "metadata": {},
   "source": [
    "#### xiii. list() - returns a list"
   ]
  },
  {
   "cell_type": "code",
   "execution_count": 24,
   "id": "9a3561f7",
   "metadata": {},
   "outputs": [
    {
     "name": "stdout",
     "output_type": "stream",
     "text": [
      "['P', 'y', 't', 'h', 'o', 'n']\n",
      "<class 'list'>\n"
     ]
    }
   ],
   "source": [
    "text = 'Python'\n",
    "text_list = list(text)\n",
    "print(text_list)\n",
    "print(type(text_list))"
   ]
  },
  {
   "cell_type": "markdown",
   "id": "b27d06c7",
   "metadata": {},
   "source": [
    "#### xiv. map() - applies a given function to each item of an iterable (list, tuple etc.) and returns an iterator"
   ]
  },
  {
   "cell_type": "code",
   "execution_count": 28,
   "id": "c1399fb6",
   "metadata": {},
   "outputs": [
    {
     "name": "stdout",
     "output_type": "stream",
     "text": [
      "[9, 16, 196, 64, 121]\n"
     ]
    }
   ],
   "source": [
    "numbers = [3, 4, 14, 8, 11]\n",
    "def square(number):\n",
    "  return number * number\n",
    "squared_numbers_iterator = map(square, numbers)\n",
    "squared_numbers = list(squared_numbers_iterator)\n",
    "print(squared_numbers)"
   ]
  },
  {
   "cell_type": "markdown",
   "id": "39a3054f",
   "metadata": {},
   "source": [
    "## b."
   ]
  },
  {
   "cell_type": "markdown",
   "id": "42a332f5",
   "metadata": {},
   "source": [
    "#### i. cmp() - compares elements of two tuples"
   ]
  },
  {
   "cell_type": "markdown",
   "id": "3bf647a5",
   "metadata": {},
   "source": [
    "does not work on python 3"
   ]
  },
  {
   "cell_type": "markdown",
   "id": "317a78b5",
   "metadata": {},
   "source": [
    "#### ii. len() - returns the number of elements in the tuple"
   ]
  },
  {
   "cell_type": "code",
   "execution_count": 30,
   "id": "54180b19",
   "metadata": {},
   "outputs": [
    {
     "name": "stdout",
     "output_type": "stream",
     "text": [
      "3\n",
      "2\n"
     ]
    }
   ],
   "source": [
    "tuple1, tuple2 = (123, 'xyz', 'zara'), (456, 'abc')\n",
    "print (len(tuple1))\n",
    "print (len(tuple2))"
   ]
  },
  {
   "cell_type": "markdown",
   "id": "b9ab56ed",
   "metadata": {},
   "source": [
    "#### iii. max() - returns the elements from the tuple with maximum value"
   ]
  },
  {
   "cell_type": "code",
   "execution_count": 32,
   "id": "8a226a9e",
   "metadata": {},
   "outputs": [
    {
     "name": "stdout",
     "output_type": "stream",
     "text": [
      "phy\n",
      "700\n"
     ]
    }
   ],
   "source": [
    "tuple1, tuple2 = ('maths', 'che', 'phy', 'bio'), (456, 700, 200)\n",
    "print (max(tuple1))\n",
    "print (max(tuple2))"
   ]
  },
  {
   "cell_type": "markdown",
   "id": "b0d036fe",
   "metadata": {},
   "source": [
    "#### iv. tuple(seq) - a sequence to be converted into tuple."
   ]
  },
  {
   "cell_type": "code",
   "execution_count": 34,
   "id": "f77dbf93",
   "metadata": {},
   "outputs": [
    {
     "name": "stdout",
     "output_type": "stream",
     "text": [
      "Tuple elements :  (123, 'xyz', 'zara', 'abc')\n"
     ]
    }
   ],
   "source": [
    "List = [123, 'xyz', 'zara', 'abc']\n",
    "Tuple = tuple(List)\n",
    "print(\"Tuple elements : \", Tuple)"
   ]
  },
  {
   "cell_type": "code",
   "execution_count": null,
   "id": "1eca5c6a",
   "metadata": {},
   "outputs": [],
   "source": []
  }
 ],
 "metadata": {
  "kernelspec": {
   "display_name": "Python 3",
   "language": "python",
   "name": "python3"
  },
  "language_info": {
   "codemirror_mode": {
    "name": "ipython",
    "version": 3
   },
   "file_extension": ".py",
   "mimetype": "text/x-python",
   "name": "python",
   "nbconvert_exporter": "python",
   "pygments_lexer": "ipython3",
   "version": "3.8.8"
  }
 },
 "nbformat": 4,
 "nbformat_minor": 5
}
